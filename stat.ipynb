{
 "cells": [
  {
   "cell_type": "code",
   "execution_count": 2,
   "id": "48a83f49",
   "metadata": {},
   "outputs": [],
   "source": [
    "import os\n",
    "import pandas as pd\n",
    "import numpy as np"
   ]
  },
  {
   "cell_type": "code",
   "execution_count": null,
   "id": "984d99a1",
   "metadata": {},
   "outputs": [],
   "source": [
    "base_path = os.getcwd()\n",
    "\n",
    "for fp, pn, fns in os.walk(base_path):\n",
    "    proj = fp.rsplit(\"/\",1)[1]  \n",
    "    if (proj.startswith(\"F\")):  \n",
    "        col = \"时间\"\n",
    "    for fn in fns:\n",
    "        if (fn.endswith(\"csv\")):    \n",
    "            df = pd.read_csv(  \n",
    "                os.path.join(fp,fn), \n",
    "                encoding=\"gb2312\",\n",
    "                na_values=\"-\"\n",
    "            ).fillna(method=\"pad\")  \n",
    "            if (fn.startswith(\"20\")):  \n",
    "                of = f\"{base_path}/out/{proj}产量.csv\"\n",
    "                cols = [\"产量\"]\n",
    "                fmt = \"%Y%m%d\"\n",
    "            else:   \n",
    "                of = f\"{base_path}/out/{proj}流量.csv\"\n",
    "                df.rename(columns={\"timerstr\": \"时间\"}, inplace=True)   \n",
    "                cols = [\"前段流量计\",\"中段流量计\",\"后段流量计\"]\n",
    "                fmt = \"%Y-%m-%d %H:%M:%S\"\n",
    "            head = not os.path.exists(of)   \n",
    "            \n",
    "            df[col] = pd.to_datetime(df[col],format=fmt)   \n",
    "            df = (\n",
    "                df.set_index(col,drop=True) \n",
    "                .sort_index().apply(pd.to_numeric)\n",
    "            )\n",
    "            df = df.resample('1D').max()    \n",
    "            df[cols].to_csv(of,header=head,index=True,mode='a')  \n",
    "            del df  "
   ]
  },
  {
   "cell_type": "code",
   "execution_count": 3,
   "id": "ff4bf662",
   "metadata": {},
   "outputs": [],
   "source": [
    "base_path = f\"{os.getcwd()}/out\"\n",
    "df1 = pd.read_csv(\n",
    "    os.path.join(base_path,\"F405A20产量.csv\"),\n",
    "    index_col=\"时间\",  \n",
    "    parse_dates=True\n",
    ")\n",
    "df2 = pd.read_csv(\n",
    "    os.path.join(base_path,\"F405A20流量.csv\"),\n",
    "    index_col=\"时间\",\n",
    "    parse_dates=True\n",
    ")\n",
    "\n",
    "# df1 = pd.read_csv(\n",
    "#     os.path.join(base_path,\"F426A20产量.csv\"),\n",
    "#     index_col=\"时间\",\n",
    "#     parse_dates=True\n",
    "# )\n",
    "# df2 = pd.read_csv(\n",
    "#     os.path.join(base_path,\"F426A20流量.csv\"),\n",
    "#     index_col=\"时间\",\n",
    "#     parse_dates=True\n",
    "# )"
   ]
  },
  {
   "cell_type": "code",
   "execution_count": 4,
   "id": "55f610fc",
   "metadata": {},
   "outputs": [],
   "source": [
    "df = df1.combine_first(df2) \n",
    "产量 = df[\"产量\"]"
   ]
  },
  {
   "cell_type": "code",
   "execution_count": 5,
   "id": "456d8352",
   "metadata": {},
   "outputs": [],
   "source": [
    "df = df - df.shift(1,fill_value=0) \n",
    "df[\"产量\"] = 产量   \n",
    "df[\"气耗/平方米\"] = (\n",
    "    df.filter(regex=\"流量计$\",axis=1).sum(axis=1)   \n",
    "    .div(df[\"产量\"]).replace([np.inf,-np.inf,np.nan],0) \n",
    ")\n",
    "\n",
    "df.to_csv(f\"{base_path}/F405A20单位气耗.csv\",encoding=\"gb2312\") \n",
    "\n",
    "# df.to_csv(f\"{base_path}/F426A20单位气耗.csv\",encoding=\"gb2312\")"
   ]
  },
  {
   "cell_type": "code",
   "execution_count": null,
   "id": "72a1a214",
   "metadata": {},
   "outputs": [],
   "source": []
  }
 ],
 "metadata": {
  "kernelspec": {
   "display_name": "Python 3",
   "language": "python",
   "name": "python3"
  },
  "language_info": {
   "codemirror_mode": {
    "name": "ipython",
    "version": 3
   },
   "file_extension": ".py",
   "mimetype": "text/x-python",
   "name": "python",
   "nbconvert_exporter": "python",
   "pygments_lexer": "ipython3",
   "version": "3.10.2 (tags/v3.10.2:a58ebcc, Jan 17 2022, 14:12:15) [MSC v.1929 64 bit (AMD64)]"
  },
  "vscode": {
   "interpreter": {
    "hash": "19510223d3238783492537411ed515956f49fabe1ea7f0a9f5a28d34eca39793"
   }
  }
 },
 "nbformat": 4,
 "nbformat_minor": 5
}
